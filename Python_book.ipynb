{
 "cells": [
  {
   "cell_type": "code",
   "execution_count": 4,
   "metadata": {},
   "outputs": [
    {
     "data": {
      "text/plain": [
       "'ARMY들이 외칩니다.BTS!BTS!BTS!'"
      ]
     },
     "execution_count": 4,
     "metadata": {},
     "output_type": "execute_result"
    }
   ],
   "source": [
    "artist = 'BTS!'\n",
    "fan = 'ARMY'\n",
    "dispdata = fan + '들이 외칩니다.'+ artist*3\n",
    "dispdata"
   ]
  },
  {
   "cell_type": "code",
   "execution_count": 9,
   "metadata": {},
   "outputs": [],
   "source": [
    "strdata1 = \"나는 파이썬 프로그래머다\"\n",
    "strdata2 = \"You are a programmer\""
   ]
  },
  {
   "cell_type": "code",
   "execution_count": 10,
   "metadata": {},
   "outputs": [
    {
     "data": {
      "text/plain": [
       "str"
      ]
     },
     "execution_count": 10,
     "metadata": {},
     "output_type": "execute_result"
    }
   ],
   "source": [
    "type(strdata1)"
   ]
  },
  {
   "cell_type": "code",
   "execution_count": 11,
   "metadata": {},
   "outputs": [
    {
     "data": {
      "text/plain": [
       "str"
      ]
     },
     "execution_count": 11,
     "metadata": {},
     "output_type": "execute_result"
    }
   ],
   "source": [
    "type(strdata2)"
   ]
  },
  {
   "cell_type": "code",
   "execution_count": 14,
   "metadata": {},
   "outputs": [
    {
     "data": {
      "text/plain": [
       "'문자열 \"abc\"의 길이는 3입니다'"
      ]
     },
     "execution_count": 14,
     "metadata": {},
     "output_type": "execute_result"
    }
   ],
   "source": [
    "strdata4=\"My son's name is John\"\n",
    "strdata5='문자열 \"abc\"의 길이는 3입니다'\n",
    "strdata5"
   ]
  },
  {
   "cell_type": "code",
   "execution_count": 16,
   "metadata": {},
   "outputs": [
    {
     "name": "stdout",
     "output_type": "stream",
     "text": [
      "나는 자바보다 파이썬에 더 익숙합니다.\n",
      "작년 세계 경쟁률은 전년에 비해 5% 포인트 증가했다.\n"
     ]
    }
   ],
   "source": [
    "txt1='자바'; txt2='파이썬'\n",
    "num1=5; num2=10\n",
    "print('나는 %s보다 %s에 더 익숙합니다.'%(txt1,txt2))       # C와 다른점 : %를 앞에 붙인다\n",
    "print('작년 세계 경쟁률은 전년에 비해 %d%% 포인트 증가했다.'%num1)  # %%=%"
   ]
  },
  {
   "cell_type": "code",
   "execution_count": 69,
   "metadata": {},
   "outputs": [
    {
     "name": "stdout",
     "output_type": "stream",
     "text": [
      "진행률 100%"
     ]
    }
   ],
   "source": [
    "from time import sleep\n",
    "for i in range(100):\n",
    "    msg='\\r진행률 %d%%'%(i+1)      # 캐리지리턴문자 : 현재위치를 나타내는 커서를 화면 맨 앞으로 이동하라\n",
    "    print(''*len(msg),end=\"\")\n",
    "    print(msg,end=\"\")\n",
    "    sleep(0.1)"
   ]
  },
  {
   "cell_type": "code",
   "execution_count": 31,
   "metadata": {},
   "outputs": [
    {
     "name": "stdout",
     "output_type": "stream",
     "text": [
      "안녕하세요.\n"
     ]
    }
   ],
   "source": [
    "def myfun():\n",
    "    print('안녕하세요.')\n",
    "list1 = [1,myfun]\n",
    "list1[1]()         # list1[1]는 myfun이므로 list1[1] = myfun()과 같다."
   ]
  },
  {
   "cell_type": "code",
   "execution_count": 49,
   "metadata": {},
   "outputs": [
    {
     "name": "stdout",
     "output_type": "stream",
     "text": [
      "1 2\n"
     ]
    }
   ],
   "source": [
    "dict1 = {'a':1,'b':2,'c':3}\n",
    "print(dict1['a'],end=\" \");print(dict1['b'])"
   ]
  },
  {
   "cell_type": "code",
   "execution_count": 89,
   "metadata": {},
   "outputs": [
    {
     "name": "stdout",
     "output_type": "stream",
     "text": [
      "{'a': 1, 'b': 7, 'c': 3, 'd': 8}\n",
      "4\n"
     ]
    }
   ],
   "source": [
    "dict1['b']=7\n",
    "dict1['d']=8\n",
    "print(dict1)\n",
    "print(len(dict1))"
   ]
  },
  {
   "cell_type": "code",
   "execution_count": 74,
   "metadata": {},
   "outputs": [
    {
     "name": "stdout",
     "output_type": "stream",
     "text": [
      "5\n",
      "대한민국만세!\n"
     ]
    }
   ],
   "source": [
    "def add_number(n1,n2):\n",
    "    ret=n1+n2\n",
    "    return ret\n",
    "\n",
    "def add_txt(t1,t2):\n",
    "    print(t1+t2)\n",
    "    \n",
    "ans=add_number(2,3)\n",
    "print(ans)\n",
    "test1='대한민국'\n",
    "test2='만세!'\n",
    "add_txt(test1,test2)"
   ]
  },
  {
   "cell_type": "code",
   "execution_count": 76,
   "metadata": {},
   "outputs": [
    {
     "name": "stdout",
     "output_type": "stream",
     "text": [
      "Best!:파이썬\n",
      "1등:대한민국\n"
     ]
    }
   ],
   "source": [
    "def add_txt(t1,t2='파이썬'):\n",
    "    print(t1+':'+t2)\n",
    "    \n",
    "add_txt('Best!')\n",
    "add_txt(t2='대한민국',t1='1등')"
   ]
  },
  {
   "cell_type": "code",
   "execution_count": 100,
   "metadata": {},
   "outputs": [
    {
     "data": {
      "text/plain": [
       "<function __main__.func1(*args)>"
      ]
     },
     "execution_count": 100,
     "metadata": {},
     "output_type": "execute_result"
    }
   ],
   "source": [
    "def func1(*args):       # *:가변인자 / args:tupple\n",
    "    print(args)\n",
    "func1"
   ]
  },
  {
   "cell_type": "code",
   "execution_count": 101,
   "metadata": {},
   "outputs": [
    {
     "data": {
      "text/plain": [
       "<function __main__.func2(width, height, **kwargs)>"
      ]
     },
     "execution_count": 101,
     "metadata": {},
     "output_type": "execute_result"
    }
   ],
   "source": [
    "def func2(width,height,**kwargs):  # **:키워드(key) 인자가 불명확할 경우 / kwargs:dictionary\n",
    "    print(kwargs)\n",
    "func2"
   ]
  },
  {
   "cell_type": "code",
   "execution_count": 102,
   "metadata": {},
   "outputs": [
    {
     "name": "stdout",
     "output_type": "stream",
     "text": [
      "()\n",
      "(3, 5, 1, 5)\n",
      "{}\n",
      "{'depth': 50, 'color': 'blue'}\n"
     ]
    }
   ],
   "source": [
    "func1()\n",
    "func1(3,5,1,5)\n",
    "func2(10,20)\n",
    "func2(10,20,depth=50,color='blue')"
   ]
  },
  {
   "cell_type": "code",
   "execution_count": 103,
   "metadata": {},
   "outputs": [
    {
     "name": "stdout",
     "output_type": "stream",
     "text": [
      "지역변수\n"
     ]
    }
   ],
   "source": [
    "param=10\n",
    "strdata='전역변수'\n",
    "\n",
    "def func1():\n",
    "    strdata='지역변수'\n",
    "    print(strdata)\n",
    "    \n",
    "def func2(param):\n",
    "    param=1\n",
    "    \n",
    "def func3():\n",
    "    global param\n",
    "    param=50\n",
    "    \n",
    "func1()"
   ]
  },
  {
   "cell_type": "code",
   "execution_count": null,
   "metadata": {},
   "outputs": [],
   "source": []
  }
 ],
 "metadata": {
  "kernelspec": {
   "display_name": "Python 3",
   "language": "python",
   "name": "python3"
  },
  "language_info": {
   "codemirror_mode": {
    "name": "ipython",
    "version": 3
   },
   "file_extension": ".py",
   "mimetype": "text/x-python",
   "name": "python",
   "nbconvert_exporter": "python",
   "pygments_lexer": "ipython3",
   "version": "3.7.3"
  }
 },
 "nbformat": 4,
 "nbformat_minor": 2
}
