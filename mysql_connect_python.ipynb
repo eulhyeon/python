{
 "cells": [
  {
   "cell_type": "code",
   "execution_count": 1,
   "metadata": {},
   "outputs": [],
   "source": [
    "from bs4 import BeautifulSoup"
   ]
  },
  {
   "cell_type": "code",
   "execution_count": 2,
   "metadata": {},
   "outputs": [],
   "source": [
    "import requests"
   ]
  },
  {
   "cell_type": "code",
   "execution_count": 3,
   "metadata": {},
   "outputs": [],
   "source": [
    "wsj=requests.get(\"http://wsj.com/asia\")"
   ]
  },
  {
   "cell_type": "code",
   "execution_count": 4,
   "metadata": {},
   "outputs": [],
   "source": [
    "soup=BeautifulSoup(wsj.text,'html.parser')"
   ]
  },
  {
   "cell_type": "code",
   "execution_count": 74,
   "metadata": {},
   "outputs": [],
   "source": [
    "div=soup.find_all('div')"
   ]
  },
  {
   "cell_type": "code",
   "execution_count": 75,
   "metadata": {},
   "outputs": [
    {
     "name": "stdout",
     "output_type": "stream",
     "text": [
      "BROWSER UPDATE To gain access to the full experience, please upgrade your browser: Chrome | Safari | Firefox | Internet ExplorerNote: If you are running Internet Explorer 10 and above, make sure it is not in compatibility mode.\n"
     ]
    }
   ],
   "source": [
    "print(div[1].text)"
   ]
  },
  {
   "cell_type": "code",
   "execution_count": 85,
   "metadata": {},
   "outputs": [
    {
     "name": "stdout",
     "output_type": "stream",
     "text": [
      "3\n",
      "Facebook Settlement Requires Zuckerberg to Certify Privacy Protections\n",
      "Facebook CEO Mark Zuckerberg will have to personally certify that the company is taking steps to protect consumer privacy under a settlement expected to be announced with the Federal Trade Commission Wednesday. 3\n",
      "WeWork Aims to Go Public in September, Sooner Than Expected\n",
      "The office-space company boosted a loan facility in the hopes it will pave the way for the listing.\n",
      "Apple Dominates App Store Search Results, Thwarting Competitors\n",
      "Searches for “music,” “audiobooks” and other categories rank company apps first, a process some developers find unfair. Apple says algorithm doesn’t give own products an advantage. 55\n"
     ]
    }
   ],
   "source": [
    "div=soup.find_all('div',class_=\"LS-SECONDARY-ALT wsj-card clearfix media-not-first media-flow no-subhed\")\n",
    "print(len(div))\n",
    "for i in div:\n",
    "    soupDiv=BeautifulSoup(str(i),'html.parser')\n",
    "    a=soupDiv.find_all('a')\n",
    "    d=soupDiv.find_all('p')\n",
    "    title=a[0].text\n",
    "    content=d[0].text\n",
    "    now=datetime.datetime.now()\n",
    "    cursor.execute(\"INSERT INTO spider (title,content,reg_date) VALUES (%s,%s,%s)\",(title,content,now))\n",
    "    mariadb_connection.commit()\n",
    "    print(a[0].text)\n",
    "    print(d[0].text)   "
   ]
  },
  {
   "cell_type": "code",
   "execution_count": 77,
   "metadata": {},
   "outputs": [
    {
     "name": "stdout",
     "output_type": "stream",
     "text": [
      "Tesla’s Sales of Higher-End Cars Erode in Key MarketSales of Tesla’s high-end Model S sedan have taken a big hit in the company’s most important U.S. market, California, as the electric auto maker is leaning more heavily on selling the lower-priced Model 3 compact car.Russia-China Air Patrol Draws Fire From South Korean JetsThe first joint patrol by Russian and Chinese bombers aimed at testing the air defenses of U.S. allies in northeast Asia triggered a rare clash as South Korean fighters scrambled to ward off what Seoul said was an intrusion into its airspace. North Korea Shows Off Advanced New Submarine Boris Johnson Wins Race to Become Next U.K. Prime MinisterBoris Johnson won the race to lead the ruling Conservative Party and become Britain’s next prime minister, repeating a pledge to pull Britain out of the EU by Oct. 31—but the challenge he faces became quickly apparent. 381 Europe Braces for Brexit With Johnson  What Johnson’s Win Means for the U.S. \n"
     ]
    }
   ],
   "source": [
    "print(div[104].text)"
   ]
  },
  {
   "cell_type": "code",
   "execution_count": 27,
   "metadata": {},
   "outputs": [],
   "source": [
    "import mysql.connector as mariadb"
   ]
  },
  {
   "cell_type": "code",
   "execution_count": 28,
   "metadata": {},
   "outputs": [],
   "source": [
    "mariadb_connection = mariadb.connect(host='121.67.246.211',user='aisoftUser',password='password',database='aisoft')"
   ]
  },
  {
   "cell_type": "code",
   "execution_count": 29,
   "metadata": {},
   "outputs": [],
   "source": [
    "cursor=mariadb_connection.cursor()"
   ]
  },
  {
   "cell_type": "code",
   "execution_count": 48,
   "metadata": {},
   "outputs": [
    {
     "name": "stdout",
     "output_type": "stream",
     "text": [
      "CMySQLCursor: select * from spider\n"
     ]
    }
   ],
   "source": [
    "print(cursor)"
   ]
  },
  {
   "cell_type": "code",
   "execution_count": 69,
   "metadata": {},
   "outputs": [],
   "source": [
    "import datetime"
   ]
  },
  {
   "cell_type": "code",
   "execution_count": 106,
   "metadata": {},
   "outputs": [],
   "source": [
    "title=\"첫번째제목\"\n",
    "content=\"첫번째데이터\"\n",
    "now = datetime.datetime.now()\n",
    "cursor.execute(\"INSERT INTO spider(title,content,reg_date) VALUES(%s,%s,%s)\",('첫번째제목','첫번째데이터','now'))\n",
    "mariadb_connection.commit()"
   ]
  },
  {
   "cell_type": "code",
   "execution_count": 107,
   "metadata": {},
   "outputs": [
    {
     "name": "stdout",
     "output_type": "stream",
     "text": [
      "1 1번째제목 1번째데이터... 2019-07-24 15:55:31\n",
      "2 2번째제목 2번째데이터... 2019-07-24 15:55:31\n",
      "3 3번째제목 3번째데이터... 2019-07-24 15:55:31\n",
      "4 4번째제목 4번째데이터... 2019-07-24 15:55:31\n",
      "5 5번째제목 5번째데이터... 2019-07-24 15:55:31\n",
      "6 6번째제목 6번째데이터... 2019-07-24 15:55:31\n",
      "7 7번째제목 7번째데이터... 2019-07-24 15:55:31\n",
      "8 Facebook Settlement Requires Zuckerberg to Certify Privacy P Facebook CEO Mark Zuckerberg will have to personally certify that the company is taking steps to protect consumer privacy under a settlement expected to be announced with the Federal Trade Commission Wednesday. 3 2019-07-24 15:50:02\n",
      "9 WeWork Aims to Go Public in September, Sooner Than Expected The office-space company boosted a loan facility in the hopes it will pave the way for the listing. 2019-07-24 15:50:02\n",
      "10 Apple Dominates App Store Search Results, Thwarting Competit Searches for “music,” “audiobooks” and other categories rank company apps first, a process some developers find unfair. Apple says algorithm doesn’t give own products an advantage. 55 2019-07-24 15:50:02\n",
      "11 첫번째제목 첫번째 데이터 None\n",
      "12 첫번째제목 첫번째데이터 None\n",
      "13 첫번째제목 첫번째데이터 None\n"
     ]
    }
   ],
   "source": [
    "cursor.execute(\"select * from spider\")\n",
    "for row in cursor.fetchall():\n",
    "    print(row[0],row[1],row[2],row[3])"
   ]
  },
  {
   "cell_type": "code",
   "execution_count": 108,
   "metadata": {},
   "outputs": [],
   "source": [
    "for i in range(1,8):\n",
    "    title=str(i)+\"번째제목\"\n",
    "    content=str(i)+\"번째데이터...\"\n",
    "    now=datetime.datetime.now()\n",
    "    cursor.execute(\"update spider set title=%s, content=%s, reg_date=%s where spider_id=%s\",(title,content,now,i))"
   ]
  },
  {
   "cell_type": "code",
   "execution_count": 109,
   "metadata": {},
   "outputs": [],
   "source": [
    "now = datetime.datetime.now()\n",
    "cursor.execute(\"update spider set reg_date = %s where spider_id=2\",(now,))"
   ]
  }
 ],
 "metadata": {
  "kernelspec": {
   "display_name": "Python 3",
   "language": "python",
   "name": "python3"
  },
  "language_info": {
   "codemirror_mode": {
    "name": "ipython",
    "version": 3
   },
   "file_extension": ".py",
   "mimetype": "text/x-python",
   "name": "python",
   "nbconvert_exporter": "python",
   "pygments_lexer": "ipython3",
   "version": "3.7.3"
  }
 },
 "nbformat": 4,
 "nbformat_minor": 2
}
